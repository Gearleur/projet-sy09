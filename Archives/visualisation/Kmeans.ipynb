{
 "cells": [
  {
   "cell_type": "code",
   "source": [
    "from sklearn.cluster import KMeans\n",
    "import pandas as pd \n",
    "import numpy as np\n",
    "from sklearn.decomposition import PCA\n",
    "from sklearn.preprocessing import StandardScaler\n",
    "from sklearn.preprocessing import MinMaxScaler\n",
    "import seaborn as sns\n",
    "import matplotlib.pyplot as plt\n",
    "import scipy.linalg as linalg\n",
    "import scipy.stats as stats\n",
    "from src.utils import *\n",
    "from src.utils_TP5 import *"
   ],
   "metadata": {
    "collapsed": false,
    "ExecuteTime": {
     "end_time": "2024-05-01T16:13:51.987573Z",
     "start_time": "2024-05-01T16:13:51.983463Z"
    }
   },
   "id": "a7fcb620f403036b",
   "execution_count": 19,
   "outputs": []
  },
  {
   "cell_type": "code",
   "source": [
    "def scatterplot_pca(\n",
    "    columns=None, hue=None, style=None, data=None, pc1=1, pc2=2, **kwargs\n",
    "):\n",
    "    \"\"\"Diagramme de dispersion dans le premier plan principal.\n",
    "\n",
    "    Permet d'afficher un diagramme de dispersion lorsque les données\n",
    "    ont plus de deux dimensions. L'argument `columns` spécifie la\n",
    "    liste des colonnes à utiliser pour la PCA dans le jeu de données\n",
    "    `data`. Les arguments `style` et `hue` permettent de spécifier la\n",
    "    forme et la couleur des marqueurs. Les arguments `pc1` et `pc2`\n",
    "    permettent de sélectionner les composantes principales (par défaut\n",
    "    la première et deuxième). Retourne l'objet `Axes` ainsi que le\n",
    "    modèle `PCA` utilisé pour réduire la dimension.\n",
    "\n",
    "    :param columns: Les colonnes quantitatives de `data` à utiliser\n",
    "    :param hue: La colonne de coloration\n",
    "    :param style: La colonne du style\n",
    "    :param data: Le dataFrame Pandas\n",
    "    :param pc1: La composante en abscisse\n",
    "    :param pc2: La composante en ordonnée\n",
    "\n",
    "    \"\"\"\n",
    "     # Select relevant columns (should be numeric)\n",
    "    data_quant = data if columns is None else data[columns]\n",
    "    data_quant = data_quant.drop(\n",
    "        columns=[e for e in [hue, style] if e is not None], errors=\"ignore\"\n",
    "    )\n",
    "\n",
    "    # Reduce to two dimensions if needed\n",
    "    if data_quant.shape[1] == 2:\n",
    "        data_pca = data_quant\n",
    "        pca = None\n",
    "    else:\n",
    "        n_components = max(pc1, pc2)\n",
    "        pca = PCA(n_components=n_components)\n",
    "        data_pca = pca.fit_transform(data_quant)\n",
    "        data_pca = pd.DataFrame(\n",
    "            data_pca[:, [pc1 - 1, pc2 - 1]], columns=[f\"PC{pc1}\", f\"PC{pc2}\"]\n",
    "        )\n",
    "\n",
    "    # Keep name, force categorical data for hue and steal index to\n",
    "    # avoid unwanted alignment\n",
    "    if isinstance(hue, pd.Series):\n",
    "        if not hue.name:\n",
    "            hue.name = \"hue\"\n",
    "        hue_name = hue.name\n",
    "    elif isinstance(hue, str):\n",
    "        hue_name = hue\n",
    "        hue = data[hue]\n",
    "    elif isinstance(hue, np.ndarray):\n",
    "        hue = pd.Series(hue, name=\"class\")\n",
    "        hue_name = \"class\"\n",
    "\n",
    "    hue = hue.astype(\"category\")\n",
    "    hue.index = data_pca.index\n",
    "    hue.name = hue_name\n",
    "\n",
    "    if isinstance(style, pd.Series):\n",
    "        if not style.name:\n",
    "            style.name = \"style\"\n",
    "        style_name = style.name\n",
    "    elif isinstance(style, str):\n",
    "        style_name = style\n",
    "        style = data[style]\n",
    "    elif isinstance(style, np.ndarray):\n",
    "        style = pd.Series(style, name=\"style\")\n",
    "        style_name = \"style\"\n",
    "\n",
    "    full_data = data_pca\n",
    "    if hue is not None:\n",
    "        full_data = pd.concat((full_data, hue), axis=1)\n",
    "        kwargs[\"hue\"] = hue_name\n",
    "    if style is not None:\n",
    "        full_data = pd.concat((full_data, style), axis=1)\n",
    "        kwargs[\"style\"] = style_name\n",
    "\n",
    "    x, y = data_pca.columns\n",
    "    ax = sns.scatterplot(x=x, y=y, data=full_data, **kwargs)\n",
    "\n",
    "    return ax, pca"
   ],
   "metadata": {
    "collapsed": false,
    "ExecuteTime": {
     "end_time": "2024-05-01T16:13:52.022628Z",
     "start_time": "2024-05-01T16:13:52.013934Z"
    }
   },
   "id": "b0a2b487439b6852",
   "execution_count": 20,
   "outputs": []
  },
  {
   "cell_type": "code",
   "source": [
    "df = pd.read_csv('../dataset/data_cleaned.csv')\n",
    "colonnes_object = df.select_dtypes(include=['object', 'bool']).columns.tolist()\n",
    "df_quantitatifs = df.drop(columns=colonnes_object + [\"Attrition\"])"
   ],
   "metadata": {
    "collapsed": false,
    "ExecuteTime": {
     "end_time": "2024-05-01T16:13:52.060821Z",
     "start_time": "2024-05-01T16:13:52.046125Z"
    }
   },
   "id": "ffec3b230eb726b9",
   "execution_count": 21,
   "outputs": []
  },
  {
   "cell_type": "code",
   "source": [
    "taille = df_quantitatifs.sum()\n",
    "df2 = df_quantitatifs/taille\n",
    "cls = KMeans(n_clusters=4, init=\"random\")\n",
    "cls.fit(df2)\n",
    "labels = pd.Series(cls.labels_, name=\"K-means\")\n",
    "scatterplot_pca(data=df2, hue=labels, style=df.Attrition)\n",
    "plt.show()"
   ],
   "metadata": {
    "collapsed": false,
    "ExecuteTime": {
     "end_time": "2024-05-01T16:13:52.680175Z",
     "start_time": "2024-05-01T16:13:52.068644Z"
    }
   },
   "id": "935176719ff1a98d",
   "execution_count": 22,
   "outputs": []
  },
  {
   "cell_type": "code",
   "source": [],
   "metadata": {
    "collapsed": false,
    "ExecuteTime": {
     "end_time": "2024-05-01T16:13:52.685345Z",
     "start_time": "2024-05-01T16:13:52.682366Z"
    }
   },
   "id": "89a4bd81cfc42ea8",
   "execution_count": 22,
   "outputs": []
  }
 ],
 "metadata": {
  "kernelspec": {
   "display_name": "Python 3",
   "language": "python",
   "name": "python3"
  },
  "language_info": {
   "codemirror_mode": {
    "name": "ipython",
    "version": 2
   },
   "file_extension": ".py",
   "mimetype": "text/x-python",
   "name": "python",
   "nbconvert_exporter": "python",
   "pygments_lexer": "ipython2",
   "version": "2.7.6"
  }
 },
 "nbformat": 4,
 "nbformat_minor": 5
}
