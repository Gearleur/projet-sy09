{
 "cells": [
  {
   "cell_type": "code",
   "execution_count": 1,
   "id": "initial_id",
   "metadata": {
    "collapsed": true,
    "ExecuteTime": {
     "end_time": "2024-04-30T20:51:33.443243Z",
     "start_time": "2024-04-30T20:51:33.439975Z"
    }
   },
   "outputs": [],
   "source": [
    "import pandas as pd\n",
    "import numpy as np"
   ]
  },
  {
   "cell_type": "code",
   "outputs": [],
   "source": [
    "df = pd.read_csv('../dataset/WA_Fn-UseC_-HR-Employee-Attrition.csv')"
   ],
   "metadata": {
    "collapsed": false,
    "ExecuteTime": {
     "end_time": "2024-04-30T20:51:33.529599Z",
     "start_time": "2024-04-30T20:51:33.444258Z"
    }
   },
   "id": "aa24981ab1008cf",
   "execution_count": 2
  },
  {
   "cell_type": "markdown",
   "source": [
    "On supprime les variables EmployeeCount, Over18 et StandardHours qui ont la même valeur pour tous les individus"
   ],
   "metadata": {
    "collapsed": false
   },
   "id": "6e7c9d039e280564"
  },
  {
   "cell_type": "code",
   "outputs": [],
   "source": [
    "df= df.drop(columns=[\"EmployeeCount\", \"Over18\", \"StandardHours\"])"
   ],
   "metadata": {
    "collapsed": false,
    "ExecuteTime": {
     "end_time": "2024-04-30T20:51:33.546001Z",
     "start_time": "2024-04-30T20:51:33.531610Z"
    }
   },
   "id": "302ed8f5e7d98fad",
   "execution_count": 3
  },
  {
   "cell_type": "markdown",
   "source": [
    "Changement du type d'Attrition en booléen (bool)\n",
    "Changement du type d'OverTime en booléen (bool)\n",
    "Changement du type de BusinessTravel en quantitative discrète (int64)"
   ],
   "metadata": {
    "collapsed": false
   },
   "id": "886087e75876b69c"
  },
  {
   "cell_type": "code",
   "outputs": [],
   "source": [
    "df.loc[df.Attrition == \"No\", \"Attrition\"] = 0\n",
    "df.loc[df.Attrition == \"Yes\", \"Attrition\"] = 1\n",
    "df.Attrition = df.Attrition.astype(bool)\n",
    "\n",
    "df.loc[df.OverTime == \"No\", \"OverTime\"] = 0\n",
    "df.loc[df.OverTime == \"Yes\", \"OverTime\"] = 1\n",
    "df.OverTime = df.OverTime.astype(bool)\n",
    "\n",
    "df.loc[df.BusinessTravel == \"Non-Travel\", \"BusinessTravel\"] = 1\n",
    "df.loc[df.BusinessTravel == \"Travel_Rarely\", \"BusinessTravel\"] = 2\n",
    "df.loc[df.BusinessTravel == \"Travel_Frequently\", \"BusinessTravel\"] = 3\n",
    "df.BusinessTravel = df.BusinessTravel.astype(np.int64)"
   ],
   "metadata": {
    "collapsed": false,
    "ExecuteTime": {
     "end_time": "2024-04-30T20:51:33.566313Z",
     "start_time": "2024-04-30T20:51:33.549009Z"
    }
   },
   "id": "483e5275230dadb5",
   "execution_count": 4
  },
  {
   "cell_type": "markdown",
   "source": [
    "Changement des variables de type object en type category (concerne seulement les variables qualitatives)"
   ],
   "metadata": {
    "collapsed": false
   },
   "id": "b4000660d51ab710"
  },
  {
   "cell_type": "code",
   "outputs": [],
   "source": [
    "df.Department = pd.Categorical(df.Department, categories=[\"Research & Development\", \"Sales\", \"Human Resources\"])\n",
    "df.EducationField = pd.Categorical(df.EducationField, categories=[\"Life Sciences\", \"Medical\", \"Marketing\", \"Technical Degree\", \"Other\", \"Human Resources\"])\n",
    "df.Gender = pd.Categorical(df.Gender, categories=[\"Male\", \"Female\"])\n",
    "df.JobRole = pd.Categorical(df.JobRole, categories=[\"Sales Executive\", \"Research Scientist\", \"Laboratory Technician\", \"Manufacturing Director\", \"Healthcare Representative\", \"Manager\", \"Sales Representative\", \"Research Director\", \"Human Resources\"])\n",
    "df.MaritalStatus = pd.Categorical(df.MaritalStatus, categories=[\"Married\", \"Single\", \"Divorced\"])"
   ],
   "metadata": {
    "collapsed": false,
    "ExecuteTime": {
     "end_time": "2024-04-30T20:51:33.579866Z",
     "start_time": "2024-04-30T20:51:33.568321Z"
    }
   },
   "id": "f5f51257ac4b7ef0",
   "execution_count": 5
  },
  {
   "cell_type": "markdown",
   "source": [
    "Export du nouveau jeu de données"
   ],
   "metadata": {
    "collapsed": false
   },
   "id": "ac3d0325584a7232"
  },
  {
   "cell_type": "code",
   "outputs": [],
   "source": [
    "df.to_csv(\"../dataset/data_cleaned.csv\", index=False)"
   ],
   "metadata": {
    "collapsed": false,
    "ExecuteTime": {
     "end_time": "2024-04-30T20:51:33.603027Z",
     "start_time": "2024-04-30T20:51:33.581873Z"
    }
   },
   "id": "74f0f0617c3e05ec",
   "execution_count": 6
  },
  {
   "cell_type": "markdown",
   "source": [
    "Création d'un deuxième jeu de données tranformant les varibales quantitatives discrètes avec peu de valeurs possibles (ex : 1 'Low'; 2 'Medium'; 3 'High'; 4 'Very High') en variable qualitative (category) afin de permettre des visualisations différentes des variables"
   ],
   "metadata": {
    "collapsed": false
   },
   "id": "39ecb67f7beac1c4"
  },
  {
   "cell_type": "code",
   "outputs": [],
   "source": [
    "df.BusinessTravel = pd.Categorical(df.BusinessTravel.replace({1: \"Non-Travel\", 2: \"Travel_Rarely\", 3: \"Travel_Frequently\"}),categories=[\"Non-Travel\", \"Travel_Rarely\", \"Travel_Frequently\"], ordered = True)\n",
    "\n",
    "# Ici ce sont les variables de la description du jeu de données sur kaggme\n",
    "categories_education = [\"Below College\", \"College\", \"Bachelor\", \"Master\", \"Doctor\"]\n",
    "categories_environment_satisfaction = [\"Low\", \"Medium\", \"High\", \"Very High\"]\n",
    "categories_job_involvement = [\"Low\", \"Medium\", \"High\", \"Very High\"]\n",
    "categories_job_level = [\"Entry Level\", \"Junior Level\", \"Mid Level\", \"Senior Level\", \"Executive Level\"]\n",
    "categories_job_satisfaction = [\"Low\", \"Medium\", \"High\", \"Very High\"]\n",
    "categories_performance_rating = [\"Low\", \"Good\", \"Excellent\", \"Outstanding\"]\n",
    "categories_relationship_satisfaction = [\"Low\", \"Medium\", \"High\", \"Very High\"]\n",
    "categories_work_life_balance = [\"Bad\", \"Good\", \"Better\", \"Best\"]\n",
    "df[\"Education\"] = pd.Categorical(df[\"Education\"].replace({1: \"Below College\", 2: \"College\", 3: \"Bachelor\", 4: \"Master\", 5: \"Doctor\"}), ordered=True, categories=categories_education)\n",
    "df[\"EnvironmentSatisfaction\"] = pd.Categorical(df[\"EnvironmentSatisfaction\"].replace({1: \"Low\", 2: \"Medium\", 3: \"High\", 4: \"Very High\"}), ordered=True, categories=categories_environment_satisfaction)\n",
    "df[\"JobInvolvement\"] = pd.Categorical(df[\"JobInvolvement\"].replace({1: \"Low\", 2: \"Medium\", 3: \"High\", 4: \"Very High\"}), ordered=True, categories=categories_job_involvement)\n",
    "df[\"JobLevel\"] = pd.Categorical(df[\"JobLevel\"].replace({1: \"Entry Level\", 2: \"Junior Level\", 3: \"Mid Level\", 4: \"Senior Level\", 5: \"Executive Level\"}), ordered=True, categories=categories_job_level)\n",
    "df[\"JobSatisfaction\"] = pd.Categorical(df[\"JobSatisfaction\"].replace({1: \"Low\", 2: \"Medium\", 3: \"High\", 4: \"Very High\"}), ordered=True, categories=categories_job_satisfaction)\n",
    "df[\"PerformanceRating\"] = pd.Categorical(df[\"PerformanceRating\"].replace({1: \"Low\", 2: \"Good\", 3: \"Excellent\", 4: \"Outstanding\"}), ordered=True, categories=categories_performance_rating)\n",
    "df[\"RelationshipSatisfaction\"] = pd.Categorical(df[\"RelationshipSatisfaction\"].replace({1: \"Low\", 2: \"Medium\", 3: \"High\", 4: \"Very High\"}), ordered=True, categories=categories_relationship_satisfaction)\n",
    "df[\"WorkLifeBalance\"] = pd.Categorical(df[\"WorkLifeBalance\"].replace({1: \"Bad\", 2: \"Good\", 3: \"Better\", 4: \"Best\"}), ordered=True, categories=categories_work_life_balance)\n",
    "\n",
    "# Rajout de variables qui présentent peu de valeurs possibles et qui pourraient être interessant d'étudier comme des variables qualitatives\n",
    "df.TrainingTimesLastYear = pd.Categorical(df.TrainingTimesLastYear,categories=[0,1,2,3,4,5,6], ordered = True)\n",
    "df.StockOptionLevel = pd.Categorical(df.StockOptionLevel,categories=[0,1,2,3], ordered = True)"
   ],
   "metadata": {
    "collapsed": false,
    "ExecuteTime": {
     "end_time": "2024-04-30T20:51:33.644854Z",
     "start_time": "2024-04-30T20:51:33.605082Z"
    }
   },
   "id": "43f1540e56c82b21",
   "execution_count": 7
  },
  {
   "cell_type": "markdown",
   "source": [
    "Export du jeu de données"
   ],
   "metadata": {
    "collapsed": false
   },
   "id": "3dfba5a4d7d11e3e"
  },
  {
   "cell_type": "code",
   "outputs": [],
   "source": [
    "df.to_csv(\"../dataset/data_cleaned_quali.csv\", index=False)"
   ],
   "metadata": {
    "collapsed": false,
    "ExecuteTime": {
     "end_time": "2024-04-30T20:51:33.665707Z",
     "start_time": "2024-04-30T20:51:33.645863Z"
    }
   },
   "id": "601c6f2341c928c7",
   "execution_count": 8
  }
 ],
 "metadata": {
  "kernelspec": {
   "display_name": "Python 3",
   "language": "python",
   "name": "python3"
  },
  "language_info": {
   "codemirror_mode": {
    "name": "ipython",
    "version": 2
   },
   "file_extension": ".py",
   "mimetype": "text/x-python",
   "name": "python",
   "nbconvert_exporter": "python",
   "pygments_lexer": "ipython2",
   "version": "2.7.6"
  }
 },
 "nbformat": 4,
 "nbformat_minor": 5
}
