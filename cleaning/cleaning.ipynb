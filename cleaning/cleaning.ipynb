{
 "cells": [
  {
   "cell_type": "code",
   "id": "initial_id",
   "metadata": {
    "collapsed": true,
    "ExecuteTime": {
     "end_time": "2024-06-01T23:28:45.248589Z",
     "start_time": "2024-06-01T23:28:42.778680Z"
    }
   },
   "source": [
    "import pandas as pd\n",
    "import numpy as np"
   ],
   "outputs": [],
   "execution_count": 2
  },
  {
   "cell_type": "code",
   "source": "df = pd.read_csv('../dataset/diagnosed_cbc_data_v4.csv')",
   "metadata": {
    "collapsed": false,
    "ExecuteTime": {
     "end_time": "2024-06-01T23:28:46.540915Z",
     "start_time": "2024-06-01T23:28:46.470904Z"
    }
   },
   "id": "aa24981ab1008cf",
   "outputs": [],
   "execution_count": 3
  },
  {
   "cell_type": "markdown",
   "source": [
    "Export du jeu de données"
   ],
   "metadata": {
    "collapsed": false
   },
   "id": "3dfba5a4d7d11e3e"
  },
  {
   "cell_type": "code",
   "source": "df.to_csv(\"../dataset/data_cleaned.csv\", index=False)",
   "metadata": {
    "collapsed": false,
    "ExecuteTime": {
     "end_time": "2024-06-01T23:28:48.968747Z",
     "start_time": "2024-06-01T23:28:48.875885Z"
    }
   },
   "id": "601c6f2341c928c7",
   "outputs": [],
   "execution_count": 4
  },
  {
   "metadata": {},
   "cell_type": "code",
   "outputs": [],
   "execution_count": null,
   "source": "",
   "id": "ca0216be91e8fd23"
  }
 ],
 "metadata": {
  "kernelspec": {
   "display_name": "Python 3",
   "language": "python",
   "name": "python3"
  },
  "language_info": {
   "codemirror_mode": {
    "name": "ipython",
    "version": 2
   },
   "file_extension": ".py",
   "mimetype": "text/x-python",
   "name": "python",
   "nbconvert_exporter": "python",
   "pygments_lexer": "ipython2",
   "version": "2.7.6"
  }
 },
 "nbformat": 4,
 "nbformat_minor": 5
}
