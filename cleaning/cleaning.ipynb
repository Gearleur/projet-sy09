{
 "cells": [
  {
   "cell_type": "code",
   "execution_count": 67,
   "id": "initial_id",
   "metadata": {
    "collapsed": true,
    "ExecuteTime": {
     "end_time": "2024-04-30T18:38:22.172835Z",
     "start_time": "2024-04-30T18:38:22.137356Z"
    }
   },
   "outputs": [],
   "source": [
    "import pandas as pd "
   ]
  },
  {
   "cell_type": "code",
   "outputs": [],
   "source": [
    "df = pd.read_csv('../dataset/WA_Fn-UseC_-HR-Employee-Attrition.csv')"
   ],
   "metadata": {
    "collapsed": false,
    "ExecuteTime": {
     "end_time": "2024-04-30T18:38:22.234270Z",
     "start_time": "2024-04-30T18:38:22.177847Z"
    }
   },
   "id": "aa24981ab1008cf",
   "execution_count": 68
  },
  {
   "cell_type": "markdown",
   "source": [
    "On supprime les variables EmployeeCount, Over18 et StandardHours qui ont la même valeur pour tous les individus"
   ],
   "metadata": {
    "collapsed": false
   },
   "id": "6e7c9d039e280564"
  },
  {
   "cell_type": "code",
   "outputs": [],
   "source": [
    "df= df.drop(columns=[\"EmployeeCount\", \"Over18\", \"StandardHours\"])"
   ],
   "metadata": {
    "collapsed": false,
    "ExecuteTime": {
     "end_time": "2024-04-30T18:38:22.244769Z",
     "start_time": "2024-04-30T18:38:22.236285Z"
    }
   },
   "id": "302ed8f5e7d98fad",
   "execution_count": 69
  },
  {
   "cell_type": "markdown",
   "source": [
    "Changement du type d'Attrition en booléen (bool)\n",
    "Changement du type d'OverTime en booléen (bool)\n",
    "Changement du type de BusinessTravel en quantitative discrète (int64)"
   ],
   "metadata": {
    "collapsed": false
   },
   "id": "886087e75876b69c"
  },
  {
   "cell_type": "code",
   "outputs": [],
   "source": [
    "df.loc[df.Attrition == \"No\", \"Attrition\"] = 0\n",
    "df.loc[df.Attrition == \"Yes\", \"Attrition\"] = 1\n",
    "df.Attrition = df.Attrition.astype(bool)\n",
    "\n",
    "df.loc[df.OverTime == \"No\", \"OverTime\"] = 0\n",
    "df.loc[df.OverTime == \"Yes\", \"OverTime\"] = 1\n",
    "df.OverTime = df.OverTime.astype(bool)\n",
    "\n",
    "df.loc[df.BusinessTravel == \"Non-Travel\", \"BusinessTravel\"] = 1\n",
    "df.loc[df.BusinessTravel == \"Travel_Rarely\", \"BusinessTravel\"] = 2\n",
    "df.loc[df.BusinessTravel == \"Travel_Frequently\", \"BusinessTravel\"] = 3\n",
    "df.BusinessTravel = df.BusinessTravel.astype(np.int64)"
   ],
   "metadata": {
    "collapsed": false,
    "ExecuteTime": {
     "end_time": "2024-04-30T18:38:22.269160Z",
     "start_time": "2024-04-30T18:38:22.248783Z"
    }
   },
   "id": "483e5275230dadb5",
   "execution_count": 70
  },
  {
   "cell_type": "markdown",
   "source": [
    "Changement des variables de type object en type category (concerne seulement les variables qualitatives)"
   ],
   "metadata": {
    "collapsed": false
   },
   "id": "b4000660d51ab710"
  },
  {
   "cell_type": "code",
   "outputs": [],
   "source": [
    "df.Department = pd.Categorical(df.Department, categories=[\"Research & Development\", \"Sales\", \"Human Resources\"])\n",
    "df.EducationField = pd.Categorical(df.EducationField, categories=[\"Life Sciences\", \"Medical\", \"Marketing\", \"Technical Degree\", \"Other\", \"Human Resources\"])\n",
    "df.Gender = pd.Categorical(df.Gender, categories=[\"Male\", \"Female\"])\n",
    "df.JobRole = pd.Categorical(df.JobRole, categories=[\"Sales Executive\", \"Research Scientist\", \"Laboratory Technician\", \"Manufacturing Director\", \"Healthcare Representative\", \"Manager\", \"Sales Representative\", \"Research Director\", \"Human Resources\"])\n",
    "df.MaritalStatus = pd.Categorical(df.MaritalStatus, categories=[\"Married\", \"Single\", \"Divorced\"])"
   ],
   "metadata": {
    "collapsed": false,
    "ExecuteTime": {
     "end_time": "2024-04-30T18:38:22.287816Z",
     "start_time": "2024-04-30T18:38:22.271168Z"
    }
   },
   "id": "f5f51257ac4b7ef0",
   "execution_count": 71
  },
  {
   "cell_type": "markdown",
   "source": [
    "Export du nouveau jeu de données"
   ],
   "metadata": {
    "collapsed": false
   },
   "id": "ac3d0325584a7232"
  },
  {
   "cell_type": "code",
   "outputs": [],
   "source": [
    "df.to_csv(\"../dataset/data_cleaned.csv\", index=False)"
   ],
   "metadata": {
    "collapsed": false,
    "ExecuteTime": {
     "end_time": "2024-04-30T18:38:22.328271Z",
     "start_time": "2024-04-30T18:38:22.288826Z"
    }
   },
   "id": "74f0f0617c3e05ec",
   "execution_count": 72
  },
  {
   "cell_type": "markdown",
   "source": [
    "Création d'un deuxième jeu de données tranformant les varibales quantitatives discrètes avec peu de valeurs possibles (ex : 1 'Low'; 2 'Medium'; 3 'High'; 4 'Very High') en variable qualitative (category) afin de permettre des visualisations différentes des variables"
   ],
   "metadata": {
    "collapsed": false
   },
   "id": "39ecb67f7beac1c4"
  },
  {
   "cell_type": "code",
   "outputs": [
    {
     "data": {
      "text/plain": "   Age  Attrition     BusinessTravel  DailyRate              Department  \\\n0   41       True      Travel_Rarely       1102                   Sales   \n1   49      False  Travel_Frequently        279  Research & Development   \n2   37       True      Travel_Rarely       1373  Research & Development   \n3   33      False  Travel_Frequently       1392  Research & Development   \n4   27      False      Travel_Rarely        591  Research & Development   \n\n   DistanceFromHome      Education EducationField  EmployeeNumber  \\\n0                 1        College  Life Sciences               1   \n1                 8  Below College  Life Sciences               2   \n2                 2        College          Other               4   \n3                 3         Master  Life Sciences               5   \n4                 2  Below College        Medical               7   \n\n  EnvironmentSatisfaction  ... PerformanceRating  RelationshipSatisfaction  \\\n0                  Medium  ...         Excellent                       Low   \n1                    High  ...       Outstanding                 Very High   \n2               Very High  ...         Excellent                    Medium   \n3               Very High  ...         Excellent                      High   \n4                     Low  ...         Excellent                 Very High   \n\n  StockOptionLevel TotalWorkingYears TrainingTimesLastYear WorkLifeBalance  \\\n0                0                 8                     0             Bad   \n1                1                10                     3          Better   \n2                0                 7                     3          Better   \n3                0                 8                     3          Better   \n4                1                 6                     3          Better   \n\n  YearsAtCompany  YearsInCurrentRole  YearsSinceLastPromotion  \\\n0              6                   4                        0   \n1             10                   7                        1   \n2              0                   0                        0   \n3              8                   7                        3   \n4              2                   2                        2   \n\n   YearsWithCurrManager  \n0                     5  \n1                     7  \n2                     0  \n3                     0  \n4                     2  \n\n[5 rows x 32 columns]",
      "text/html": "<div>\n<style scoped>\n    .dataframe tbody tr th:only-of-type {\n        vertical-align: middle;\n    }\n\n    .dataframe tbody tr th {\n        vertical-align: top;\n    }\n\n    .dataframe thead th {\n        text-align: right;\n    }\n</style>\n<table border=\"1\" class=\"dataframe\">\n  <thead>\n    <tr style=\"text-align: right;\">\n      <th></th>\n      <th>Age</th>\n      <th>Attrition</th>\n      <th>BusinessTravel</th>\n      <th>DailyRate</th>\n      <th>Department</th>\n      <th>DistanceFromHome</th>\n      <th>Education</th>\n      <th>EducationField</th>\n      <th>EmployeeNumber</th>\n      <th>EnvironmentSatisfaction</th>\n      <th>...</th>\n      <th>PerformanceRating</th>\n      <th>RelationshipSatisfaction</th>\n      <th>StockOptionLevel</th>\n      <th>TotalWorkingYears</th>\n      <th>TrainingTimesLastYear</th>\n      <th>WorkLifeBalance</th>\n      <th>YearsAtCompany</th>\n      <th>YearsInCurrentRole</th>\n      <th>YearsSinceLastPromotion</th>\n      <th>YearsWithCurrManager</th>\n    </tr>\n  </thead>\n  <tbody>\n    <tr>\n      <th>0</th>\n      <td>41</td>\n      <td>True</td>\n      <td>Travel_Rarely</td>\n      <td>1102</td>\n      <td>Sales</td>\n      <td>1</td>\n      <td>College</td>\n      <td>Life Sciences</td>\n      <td>1</td>\n      <td>Medium</td>\n      <td>...</td>\n      <td>Excellent</td>\n      <td>Low</td>\n      <td>0</td>\n      <td>8</td>\n      <td>0</td>\n      <td>Bad</td>\n      <td>6</td>\n      <td>4</td>\n      <td>0</td>\n      <td>5</td>\n    </tr>\n    <tr>\n      <th>1</th>\n      <td>49</td>\n      <td>False</td>\n      <td>Travel_Frequently</td>\n      <td>279</td>\n      <td>Research &amp; Development</td>\n      <td>8</td>\n      <td>Below College</td>\n      <td>Life Sciences</td>\n      <td>2</td>\n      <td>High</td>\n      <td>...</td>\n      <td>Outstanding</td>\n      <td>Very High</td>\n      <td>1</td>\n      <td>10</td>\n      <td>3</td>\n      <td>Better</td>\n      <td>10</td>\n      <td>7</td>\n      <td>1</td>\n      <td>7</td>\n    </tr>\n    <tr>\n      <th>2</th>\n      <td>37</td>\n      <td>True</td>\n      <td>Travel_Rarely</td>\n      <td>1373</td>\n      <td>Research &amp; Development</td>\n      <td>2</td>\n      <td>College</td>\n      <td>Other</td>\n      <td>4</td>\n      <td>Very High</td>\n      <td>...</td>\n      <td>Excellent</td>\n      <td>Medium</td>\n      <td>0</td>\n      <td>7</td>\n      <td>3</td>\n      <td>Better</td>\n      <td>0</td>\n      <td>0</td>\n      <td>0</td>\n      <td>0</td>\n    </tr>\n    <tr>\n      <th>3</th>\n      <td>33</td>\n      <td>False</td>\n      <td>Travel_Frequently</td>\n      <td>1392</td>\n      <td>Research &amp; Development</td>\n      <td>3</td>\n      <td>Master</td>\n      <td>Life Sciences</td>\n      <td>5</td>\n      <td>Very High</td>\n      <td>...</td>\n      <td>Excellent</td>\n      <td>High</td>\n      <td>0</td>\n      <td>8</td>\n      <td>3</td>\n      <td>Better</td>\n      <td>8</td>\n      <td>7</td>\n      <td>3</td>\n      <td>0</td>\n    </tr>\n    <tr>\n      <th>4</th>\n      <td>27</td>\n      <td>False</td>\n      <td>Travel_Rarely</td>\n      <td>591</td>\n      <td>Research &amp; Development</td>\n      <td>2</td>\n      <td>Below College</td>\n      <td>Medical</td>\n      <td>7</td>\n      <td>Low</td>\n      <td>...</td>\n      <td>Excellent</td>\n      <td>Very High</td>\n      <td>1</td>\n      <td>6</td>\n      <td>3</td>\n      <td>Better</td>\n      <td>2</td>\n      <td>2</td>\n      <td>2</td>\n      <td>2</td>\n    </tr>\n  </tbody>\n</table>\n<p>5 rows × 32 columns</p>\n</div>"
     },
     "execution_count": 73,
     "metadata": {},
     "output_type": "execute_result"
    }
   ],
   "source": [
    "df.BusinessTravel = pd.Categorical(df.BusinessTravel.replace({1: \"Non-Travel\", 2: \"Travel_Rarely\", 3: \"Travel_Frequently\"}),categories=[\"Non-Travel\", \"Travel_Rarely\", \"Travel_Frequently\"], ordered = True)\n",
    "\n",
    "# Ici ce sont les variables de la description du jeu de données sur kaggme\n",
    "categories_education = [\"Below College\", \"College\", \"Bachelor\", \"Master\", \"Doctor\"]\n",
    "categories_environment_satisfaction = [\"Low\", \"Medium\", \"High\", \"Very High\"]\n",
    "categories_job_involvement = [\"Low\", \"Medium\", \"High\", \"Very High\"]\n",
    "categories_job_level = [\"Entry Level\", \"Junior Level\", \"Mid Level\", \"Senior Level\", \"Executive Level\"]\n",
    "categories_job_satisfaction = [\"Low\", \"Medium\", \"High\", \"Very High\"]\n",
    "categories_performance_rating = [\"Low\", \"Good\", \"Excellent\", \"Outstanding\"]\n",
    "categories_relationship_satisfaction = [\"Low\", \"Medium\", \"High\", \"Very High\"]\n",
    "categories_work_life_balance = [\"Bad\", \"Good\", \"Better\", \"Best\"]\n",
    "df[\"Education\"] = pd.Categorical(df[\"Education\"].replace({1: \"Below College\", 2: \"College\", 3: \"Bachelor\", 4: \"Master\", 5: \"Doctor\"}), ordered=True, categories=categories_education)\n",
    "df[\"EnvironmentSatisfaction\"] = pd.Categorical(df[\"EnvironmentSatisfaction\"].replace({1: \"Low\", 2: \"Medium\", 3: \"High\", 4: \"Very High\"}), ordered=True, categories=categories_environment_satisfaction)\n",
    "df[\"JobInvolvement\"] = pd.Categorical(df[\"JobInvolvement\"].replace({1: \"Low\", 2: \"Medium\", 3: \"High\", 4: \"Very High\"}), ordered=True, categories=categories_job_involvement)\n",
    "df[\"JobLevel\"] = pd.Categorical(df[\"JobLevel\"].replace({1: \"Entry Level\", 2: \"Junior Level\", 3: \"Mid Level\", 4: \"Senior Level\", 5: \"Executive Level\"}), ordered=True, categories=categories_job_level)\n",
    "df[\"JobSatisfaction\"] = pd.Categorical(df[\"JobSatisfaction\"].replace({1: \"Low\", 2: \"Medium\", 3: \"High\", 4: \"Very High\"}), ordered=True, categories=categories_job_satisfaction)\n",
    "df[\"PerformanceRating\"] = pd.Categorical(df[\"PerformanceRating\"].replace({1: \"Low\", 2: \"Good\", 3: \"Excellent\", 4: \"Outstanding\"}), ordered=True, categories=categories_performance_rating)\n",
    "df[\"RelationshipSatisfaction\"] = pd.Categorical(df[\"RelationshipSatisfaction\"].replace({1: \"Low\", 2: \"Medium\", 3: \"High\", 4: \"Very High\"}), ordered=True, categories=categories_relationship_satisfaction)\n",
    "df[\"WorkLifeBalance\"] = pd.Categorical(df[\"WorkLifeBalance\"].replace({1: \"Bad\", 2: \"Good\", 3: \"Better\", 4: \"Best\"}), ordered=True, categories=categories_work_life_balance)\n",
    "\n",
    "# Rajout de variables qui présentent peu de valeurs possibles et qui pourraient être interessant d'étudier comme des variables qualitatives\n",
    "df.TrainingTimesLastYear = pd.Categorical(df.TrainingTimesLastYear,categories=[0,1,2,3,4,5,6], ordered = True)\n",
    "df.StockOptionLevel = pd.Categorical(df.StockOptionLevel,categories=[0,1,2,3], ordered = True)\n",
    "df.head()"
   ],
   "metadata": {
    "collapsed": false,
    "ExecuteTime": {
     "end_time": "2024-04-30T18:38:22.397643Z",
     "start_time": "2024-04-30T18:38:22.330286Z"
    }
   },
   "id": "43f1540e56c82b21",
   "execution_count": 73
  },
  {
   "cell_type": "markdown",
   "source": [
    "Export du jeu de données"
   ],
   "metadata": {
    "collapsed": false
   },
   "id": "3dfba5a4d7d11e3e"
  },
  {
   "cell_type": "code",
   "outputs": [],
   "source": [
    "df.to_csv(\"../dataset/data_cleaned_quali.csv\", index=False)"
   ],
   "metadata": {
    "collapsed": false,
    "ExecuteTime": {
     "end_time": "2024-04-30T18:38:22.421699Z",
     "start_time": "2024-04-30T18:38:22.399668Z"
    }
   },
   "id": "601c6f2341c928c7",
   "execution_count": 74
  }
 ],
 "metadata": {
  "kernelspec": {
   "display_name": "Python 3",
   "language": "python",
   "name": "python3"
  },
  "language_info": {
   "codemirror_mode": {
    "name": "ipython",
    "version": 2
   },
   "file_extension": ".py",
   "mimetype": "text/x-python",
   "name": "python",
   "nbconvert_exporter": "python",
   "pygments_lexer": "ipython2",
   "version": "2.7.6"
  }
 },
 "nbformat": 4,
 "nbformat_minor": 5
}
