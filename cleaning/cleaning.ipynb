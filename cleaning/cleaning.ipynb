{
 "cells": [
  {
   "cell_type": "code",
   "id": "initial_id",
   "metadata": {
    "collapsed": true,
    "ExecuteTime": {
     "end_time": "2024-06-02T13:51:27.074672Z",
     "start_time": "2024-06-02T13:51:27.068170Z"
    }
   },
   "source": [
    "import pandas as pd\n",
    "import numpy as np"
   ],
   "outputs": [],
   "execution_count": 17
  },
  {
   "cell_type": "code",
   "source": [
    "df = pd.read_csv('../dataset/diagnosed_cbc_data_v4.csv')\n",
    "df.shape"
   ],
   "metadata": {
    "collapsed": false,
    "ExecuteTime": {
     "end_time": "2024-06-02T13:51:27.177563Z",
     "start_time": "2024-06-02T13:51:27.130138Z"
    }
   },
   "id": "aa24981ab1008cf",
   "outputs": [
    {
     "data": {
      "text/plain": [
       "(1281, 15)"
      ]
     },
     "execution_count": 18,
     "metadata": {},
     "output_type": "execute_result"
    }
   ],
   "execution_count": 18
  },
  {
   "metadata": {},
   "cell_type": "markdown",
   "source": "# Suppression des valeurs aberrantes",
   "id": "7c9643216ef58ebb"
  },
  {
   "metadata": {
    "ExecuteTime": {
     "end_time": "2024-06-02T13:51:27.193233Z",
     "start_time": "2024-06-02T13:51:27.180593Z"
    }
   },
   "cell_type": "code",
   "source": [
    "from scipy import stats\n",
    "\n",
    "numeric_cols = df.select_dtypes(include=['float64', 'int64']).columns\n",
    "z_scores = np.abs(stats.zscore(df[numeric_cols]))\n",
    "df_no_outliers_z = df[(z_scores < 3).all(axis=1)]\n",
    "print(df_no_outliers_z.shape)\n",
    "\n",
    "df_filtered = df_no_outliers_z.drop(df_no_outliers_z[df_no_outliers_z['MCH'] > 50].index)\n",
    "df_filtered.shape"
   ],
   "id": "c064ae354014dcc9",
   "outputs": [
    {
     "name": "stdout",
     "output_type": "stream",
     "text": [
      "(1204, 15)\n"
     ]
    },
    {
     "data": {
      "text/plain": [
       "(1201, 15)"
      ]
     },
     "execution_count": 19,
     "metadata": {},
     "output_type": "execute_result"
    }
   ],
   "execution_count": 19
  },
  {
   "cell_type": "markdown",
   "source": [
    "Export du jeu de données"
   ],
   "metadata": {
    "collapsed": false
   },
   "id": "3dfba5a4d7d11e3e"
  },
  {
   "cell_type": "code",
   "source": "df_filtered.to_csv(\"../dataset/data_cleaned.csv\", index=False)",
   "metadata": {
    "collapsed": false,
    "ExecuteTime": {
     "end_time": "2024-06-02T13:51:27.234961Z",
     "start_time": "2024-06-02T13:51:27.195350Z"
    }
   },
   "id": "601c6f2341c928c7",
   "outputs": [],
   "execution_count": 20
  },
  {
   "metadata": {
    "ExecuteTime": {
     "end_time": "2024-06-02T13:51:27.242749Z",
     "start_time": "2024-06-02T13:51:27.238971Z"
    }
   },
   "cell_type": "code",
   "source": "",
   "id": "ca0216be91e8fd23",
   "outputs": [],
   "execution_count": 20
  }
 ],
 "metadata": {
  "kernelspec": {
   "display_name": "Python 3",
   "language": "python",
   "name": "python3"
  },
  "language_info": {
   "codemirror_mode": {
    "name": "ipython",
    "version": 2
   },
   "file_extension": ".py",
   "mimetype": "text/x-python",
   "name": "python",
   "nbconvert_exporter": "python",
   "pygments_lexer": "ipython2",
   "version": "2.7.6"
  }
 },
 "nbformat": 4,
 "nbformat_minor": 5
}
