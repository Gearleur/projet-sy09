{
 "cells": [
  {
   "cell_type": "code",
   "execution_count": 42,
   "outputs": [],
   "source": [
    "import pandas as pd\n",
    "import matplotlib.pyplot as plt\n",
    "import matplotlib as mpl\n",
    "from sklearn.neighbors import KNeighborsClassifier\n",
    "import seaborn as sns\n",
    "from sklearn.decomposition import PCA\n",
    "from sklearn.preprocessing import StandardScaler\n",
    "from sklearn.model_selection import cross_val_score\n",
    "from sklearn.discriminant_analysis import LinearDiscriminantAnalysis\n",
    "from sklearn.discriminant_analysis import QuadraticDiscriminantAnalysis\n",
    "from sklearn.naive_bayes import GaussianNB\n",
    "from sklearn.linear_model import LogisticRegression\n",
    "from sklearn.preprocessing import PolynomialFeatures\n",
    "from sklearn.pipeline import make_pipeline\n",
    "from sklearn.metrics import f1_score\n",
    "data = pd.read_csv('../dataset/data_7diagnosis.csv')\n",
    "df = data.drop('Diagnosis', axis=1)\n",
    "diagnosis=data.Diagnosis"
   ],
   "metadata": {
    "collapsed": false
   }
  },
  {
   "cell_type": "markdown",
   "source": [
    "## ACP"
   ],
   "metadata": {
    "collapsed": false
   }
  },
  {
   "cell_type": "code",
   "execution_count": 43,
   "metadata": {
    "collapsed": true
   },
   "outputs": [],
   "source": [
    "scaler = StandardScaler()\n",
    "X = pd.DataFrame(scaler.fit_transform(df), columns = df.columns)\n",
    "pca = PCA(n_components=2)\n",
    "pcs = pca.fit_transform(X)\n",
    "pcs = pd.DataFrame(pcs,columns=[f\"PC{i}\" for i in range(1, 3)])\n",
    "X['z'] = data['Diagnosis']\n",
    "pcs['z'] = data['Diagnosis']"
   ]
  },
  {
   "cell_type": "markdown",
   "source": [
    "## LDA/QDA/NB"
   ],
   "metadata": {
    "collapsed": false
   }
  },
  {
   "cell_type": "code",
   "execution_count": 44,
   "outputs": [
    {
     "name": "stdout",
     "output_type": "stream",
     "text": [
      "   Model       Acc        F1\n",
      "0    LDA  0.561983  0.401753\n",
      "1    LDA  0.583333  0.397199\n",
      "2    LDA  0.741667  0.446135\n",
      "3    LDA  0.700000  0.422636\n",
      "4    LDA  0.650000  0.393665\n",
      "5    LDA  0.691667  0.419230\n",
      "6    LDA  0.658333  0.409324\n",
      "7    LDA  0.650000  0.400103\n",
      "8    LDA  0.500000  0.342678\n",
      "9    LDA  0.533333  0.338330\n",
      "10   QDA  0.545455  0.385481\n",
      "11   QDA  0.566667  0.412242\n",
      "12   QDA  0.733333  0.509981\n",
      "13   QDA  0.750000  0.511526\n",
      "14   QDA  0.641667  0.387020\n",
      "15   QDA  0.733333  0.502541\n",
      "16   QDA  0.675000  0.418834\n",
      "17   QDA  0.675000  0.493953\n",
      "18   QDA  0.458333  0.354764\n",
      "19   QDA  0.500000  0.410530\n",
      "20    NB  0.520661  0.378980\n",
      "21    NB  0.566667  0.381103\n",
      "22    NB  0.741667  0.516442\n",
      "23    NB  0.750000  0.511526\n",
      "24    NB  0.625000  0.382601\n",
      "25    NB  0.700000  0.480057\n",
      "26    NB  0.666667  0.414251\n",
      "27    NB  0.641667  0.450345\n",
      "28    NB  0.408333  0.331540\n",
      "29    NB  0.533333  0.417689\n"
     ]
    }
   ],
   "source": [
    "models = [\n",
    "(LinearDiscriminantAnalysis, \"LDA\"),\n",
    "(QuadraticDiscriminantAnalysis, \"QDA\"),\n",
    "(GaussianNB, \"NB\"),\n",
    "]\n",
    "#sans score F1 :\n",
    "\"\"\"def validation_errors(df, models):\n",
    "    y = df.z\n",
    "    X = df.drop(columns=[\"z\"])\n",
    "    for model, name in models:\n",
    "        for acc in cross_val_score(model(), X, y, cv=10):\n",
    "            yield name, acc\"\"\"\n",
    "\n",
    "#avec score F1\n",
    "def validation_errors(df, models):\n",
    "    y = df.z\n",
    "    X = df.drop(columns=[\"z\"])\n",
    "    for model, name in models:\n",
    "        acc_scores = cross_val_score(model(), X, y, cv=10)\n",
    "        f1_scores = cross_val_score(model(), X, y, cv=10, scoring='f1_macro')\n",
    "        for acc, f1 in zip(acc_scores, f1_scores):\n",
    "            yield name, acc, f1\n",
    "\n",
    "scores_discri = pd.DataFrame(validation_errors(pcs, models), columns=[\"Model\", \"Acc\",\"F1\"])\n",
    "\n",
    "print(scores_discri)"
   ],
   "metadata": {
    "collapsed": false
   }
  },
  {
   "cell_type": "markdown",
   "source": [
    "## KNN"
   ],
   "metadata": {
    "collapsed": false
   }
  },
  {
   "cell_type": "code",
   "execution_count": 45,
   "outputs": [
    {
     "name": "stdout",
     "output_type": "stream",
     "text": [
      "  Model       Acc        F1\n",
      "0   KNN  0.504132  0.405179\n",
      "1   KNN  0.750000  0.605436\n",
      "2   KNN  0.858333  0.677285\n",
      "3   KNN  0.866667  0.637116\n",
      "4   KNN  0.783333  0.652654\n",
      "5   KNN  0.875000  0.750916\n",
      "6   KNN  0.891667  0.785934\n",
      "7   KNN  0.691667  0.581395\n",
      "8   KNN  0.533333  0.433653\n",
      "9   KNN  0.541667  0.447619\n"
     ]
    }
   ],
   "source": [
    "cls = KNeighborsClassifier(n_neighbors=4)\n",
    "cls.fit(pcs.drop(columns=\"z\"),diagnosis)\n",
    "\n",
    "scores_KNN = pd.DataFrame({\"Acc\":cross_val_score(cls, pcs.drop(columns=\"z\"), diagnosis, cv=10), \"F1\": cross_val_score(cls, pcs.drop(columns=\"z\"), diagnosis, cv=10,scoring='f1_macro')})\n",
    "scores_KNN.insert(loc=0, column='Model', value='KNN')\n",
    "print(scores_KNN)\n",
    "\n"
   ],
   "metadata": {
    "collapsed": false
   }
  },
  {
   "cell_type": "markdown",
   "source": [
    "## Régression logistique"
   ],
   "metadata": {
    "collapsed": false
   }
  },
  {
   "cell_type": "code",
   "execution_count": 46,
   "outputs": [
    {
     "name": "stderr",
     "output_type": "stream",
     "text": [
      "c:\\users\\felic\\appdata\\local\\programs\\python\\python39\\lib\\site-packages\\sklearn\\linear_model\\_logistic.py:469: ConvergenceWarning: lbfgs failed to converge (status=1):\n",
      "STOP: TOTAL NO. of ITERATIONS REACHED LIMIT.\n",
      "\n",
      "Increase the number of iterations (max_iter) or scale the data as shown in:\n",
      "    https://scikit-learn.org/stable/modules/preprocessing.html\n",
      "Please also refer to the documentation for alternative solver options:\n",
      "    https://scikit-learn.org/stable/modules/linear_model.html#logistic-regression\n",
      "  n_iter_i = _check_optimize_result(\n"
     ]
    },
    {
     "name": "stdout",
     "output_type": "stream",
     "text": [
      "  Model       Acc        F1\n",
      "0   LRL  0.578512  0.406011\n",
      "1   LRL  0.591667  0.433514\n",
      "2   LRL  0.716667  0.429157\n",
      "3   LRL  0.691667  0.416538\n",
      "4   LRL  0.625000  0.426143\n",
      "5   LRL  0.708333  0.484989\n",
      "6   LRL  0.650000  0.402727\n",
      "7   LRL  0.658333  0.408579\n",
      "8   LRL  0.533333  0.424125\n",
      "9   LRL  0.541667  0.374545\n",
      "  Model       Acc        F1\n",
      "0   LRQ  0.570248  0.399432\n",
      "1   LRQ  0.608333  0.440925\n",
      "2   LRQ  0.716667  0.429157\n",
      "3   LRQ  0.691667  0.416538\n",
      "4   LRQ  0.633333  0.432701\n",
      "5   LRQ  0.708333  0.484989\n",
      "6   LRQ  0.650000  0.401407\n",
      "7   LRQ  0.658333  0.408579\n",
      "8   LRQ  0.541667  0.429176\n",
      "9   LRQ  0.541667  0.374545\n"
     ]
    }
   ],
   "source": [
    "#linéaire\n",
    "cls = LogisticRegression(penalty=None)\n",
    "cls.fit(pcs.drop(columns=\"z\"), diagnosis)\n",
    "\n",
    "scores_reg_lin = pd.DataFrame({\"Acc\":cross_val_score(cls, pcs.drop(columns=\"z\"), diagnosis, cv=10, scoring='accuracy'), \"F1\": cross_val_score(cls, pcs.drop(columns=\"z\"), diagnosis, cv=10,scoring='f1_macro')})\n",
    "scores_reg_lin.insert(loc=0, column='Model', value='LRL')\n",
    "#multiple\n",
    "poly = PolynomialFeatures(degree=3)\n",
    "cls = LogisticRegression()\n",
    "pipe = make_pipeline(poly, cls)\n",
    "pipe.fit(pcs.drop(columns=\"z\"), diagnosis)\n",
    "\n",
    "scores_reg_quad = pd.DataFrame({\"Acc\":cross_val_score(cls, pcs.drop(columns=\"z\"), diagnosis, cv=10, scoring='accuracy'),\"F1\": cross_val_score(cls, pcs.drop(columns=\"z\"), diagnosis, cv=10,scoring='f1_macro')})\n",
    "scores_reg_quad.insert(loc=0, column='Model', value='LRQ')\n",
    "\n",
    "print(scores_reg_lin)\n",
    "print(scores_reg_quad)"
   ],
   "metadata": {
    "collapsed": false
   }
  },
  {
   "cell_type": "markdown",
   "source": [
    "## Analyse graphique"
   ],
   "metadata": {
    "collapsed": false
   }
  },
  {
   "cell_type": "code",
   "execution_count": 47,
   "outputs": [
    {
     "name": "stdout",
     "output_type": "stream",
     "text": [
      "   Model       Acc        F1\n",
      "0    LDA  0.561983  0.401753\n",
      "1    LDA  0.583333  0.397199\n",
      "2    LDA  0.741667  0.446135\n",
      "3    LDA  0.700000  0.422636\n",
      "4    LDA  0.650000  0.393665\n",
      "5    LDA  0.691667  0.419230\n",
      "6    LDA  0.658333  0.409324\n",
      "7    LDA  0.650000  0.400103\n",
      "8    LDA  0.500000  0.342678\n",
      "9    LDA  0.533333  0.338330\n",
      "10   QDA  0.545455  0.385481\n",
      "11   QDA  0.566667  0.412242\n",
      "12   QDA  0.733333  0.509981\n",
      "13   QDA  0.750000  0.511526\n",
      "14   QDA  0.641667  0.387020\n",
      "15   QDA  0.733333  0.502541\n",
      "16   QDA  0.675000  0.418834\n",
      "17   QDA  0.675000  0.493953\n",
      "18   QDA  0.458333  0.354764\n",
      "19   QDA  0.500000  0.410530\n",
      "20    NB  0.520661  0.378980\n",
      "21    NB  0.566667  0.381103\n",
      "22    NB  0.741667  0.516442\n",
      "23    NB  0.750000  0.511526\n",
      "24    NB  0.625000  0.382601\n",
      "25    NB  0.700000  0.480057\n",
      "26    NB  0.666667  0.414251\n",
      "27    NB  0.641667  0.450345\n",
      "28    NB  0.408333  0.331540\n",
      "29    NB  0.533333  0.417689\n",
      "30   KNN  0.504132  0.405179\n",
      "31   KNN  0.750000  0.605436\n",
      "32   KNN  0.858333  0.677285\n",
      "33   KNN  0.866667  0.637116\n",
      "34   KNN  0.783333  0.652654\n",
      "35   KNN  0.875000  0.750916\n",
      "36   KNN  0.891667  0.785934\n",
      "37   KNN  0.691667  0.581395\n",
      "38   KNN  0.533333  0.433653\n",
      "39   KNN  0.541667  0.447619\n",
      "40   LRL  0.578512  0.406011\n",
      "41   LRL  0.591667  0.433514\n",
      "42   LRL  0.716667  0.429157\n",
      "43   LRL  0.691667  0.416538\n",
      "44   LRL  0.625000  0.426143\n",
      "45   LRL  0.708333  0.484989\n",
      "46   LRL  0.650000  0.402727\n",
      "47   LRL  0.658333  0.408579\n",
      "48   LRL  0.533333  0.424125\n",
      "49   LRL  0.541667  0.374545\n",
      "50   LRQ  0.570248  0.399432\n",
      "51   LRQ  0.608333  0.440925\n",
      "52   LRQ  0.716667  0.429157\n",
      "53   LRQ  0.691667  0.416538\n",
      "54   LRQ  0.633333  0.432701\n",
      "55   LRQ  0.708333  0.484989\n",
      "56   LRQ  0.650000  0.401407\n",
      "57   LRQ  0.658333  0.408579\n",
      "58   LRQ  0.541667  0.429176\n",
      "59   LRQ  0.541667  0.374545\n",
      "    Model Type de score     Score\n",
      "0     LDA           Acc  0.561983\n",
      "1     LDA           Acc  0.583333\n",
      "2     LDA           Acc  0.741667\n",
      "3     LDA           Acc  0.700000\n",
      "4     LDA           Acc  0.650000\n",
      "..    ...           ...       ...\n",
      "115   LRQ            F1  0.484989\n",
      "116   LRQ            F1  0.401407\n",
      "117   LRQ            F1  0.408579\n",
      "118   LRQ            F1  0.429176\n",
      "119   LRQ            F1  0.374545\n",
      "\n",
      "[120 rows x 3 columns]\n"
     ]
    },
    {
     "data": {
      "text/plain": "<Figure size 640x480 with 1 Axes>",
      "image/png": "[encoded data removed]"
     },
     "metadata": {},
     "output_type": "display_data"
    }
   ],
   "source": [
    "scores= pd.concat([scores_discri, scores_KNN, scores_reg_lin, scores_reg_quad], ignore_index=True)\n",
    "print(scores)\n",
    "\n",
    "scores_melted = scores.melt(id_vars=[\"Model\"],value_vars=[\"Acc\", \"F1\"], var_name=\"Type de score\", value_name=\"Score\")\n",
    "print(scores_melted)\n",
    "sns.lineplot(x=\"Model\", y=\"Score\", data=scores_melted, hue=\"Type de score\",errorbar='sd')\n",
    "plt.show()"
   ],
   "metadata": {
    "collapsed": false
   }
  },
  {
   "cell_type": "code",
   "execution_count": 47,
   "outputs": [],
   "source": [],
   "metadata": {
    "collapsed": false
   }
  }
 ],
 "metadata": {
  "kernelspec": {
   "display_name": "Python 3",
   "language": "python",
   "name": "python3"
  },
  "language_info": {
   "codemirror_mode": {
    "name": "ipython",
    "version": 2
   },
   "file_extension": ".py",
   "mimetype": "text/x-python",
   "name": "python",
   "nbconvert_exporter": "python",
   "pygments_lexer": "ipython2",
   "version": "2.7.6"
  }
 },
 "nbformat": 4,
 "nbformat_minor": 0
}
