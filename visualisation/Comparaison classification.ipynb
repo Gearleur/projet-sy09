{
 "cells": [
  {
   "cell_type": "code",
   "execution_count": 38,
   "outputs": [],
   "source": [
    "import pandas as pd\n",
    "import matplotlib.pyplot as plt\n",
    "from sklearn.neighbors import KNeighborsClassifier\n",
    "import seaborn as sns\n",
    "from sklearn.decomposition import PCA\n",
    "from sklearn.preprocessing import StandardScaler\n",
    "from sklearn.model_selection import cross_val_score\n",
    "from sklearn.discriminant_analysis import LinearDiscriminantAnalysis\n",
    "from sklearn.discriminant_analysis import QuadraticDiscriminantAnalysis\n",
    "from sklearn.naive_bayes import GaussianNB\n",
    "from sklearn.linear_model import LogisticRegression\n",
    "from sklearn.preprocessing import PolynomialFeatures\n",
    "from sklearn.pipeline import make_pipeline\n",
    "data = pd.read_csv('../dataset/data_5diagnosis.csv')\n",
    "df = data.drop('Diagnosis', axis=1)\n",
    "diagnosis=data.Diagnosis"
   ],
   "metadata": {
    "collapsed": false
   }
  },
  {
   "cell_type": "markdown",
   "source": [
    "## ACP"
   ],
   "metadata": {
    "collapsed": false
   }
  },
  {
   "cell_type": "code",
   "execution_count": 39,
   "metadata": {
    "collapsed": true
   },
   "outputs": [],
   "source": [
    "scaler = StandardScaler()\n",
    "X = pd.DataFrame(scaler.fit_transform(df), columns = df.columns)\n",
    "pca = PCA(n_components=2)\n",
    "pcs = pca.fit_transform(X)\n",
    "pcs = pd.DataFrame(pcs,columns=[f\"PC{i}\" for i in range(1, 3)])\n",
    "X['z'] = data['Diagnosis']\n",
    "pcs['z'] = data['Diagnosis']"
   ]
  },
  {
   "cell_type": "markdown",
   "source": [
    "## LDA/QDA/NB"
   ],
   "metadata": {
    "collapsed": false
   }
  },
  {
   "cell_type": "code",
   "execution_count": 40,
   "outputs": [
    {
     "name": "stdout",
     "output_type": "stream",
     "text": [
      "   Model       Acc\n",
      "0    LDA  0.571429\n",
      "1    LDA  0.621622\n",
      "2    LDA  0.792793\n",
      "3    LDA  0.756757\n",
      "4    LDA  0.702703\n",
      "5    LDA  0.747748\n",
      "6    LDA  0.711712\n",
      "7    LDA  0.702703\n",
      "8    LDA  0.549550\n",
      "9    LDA  0.594595\n",
      "10   QDA  0.580357\n",
      "11   QDA  0.612613\n",
      "12   QDA  0.783784\n",
      "13   QDA  0.801802\n",
      "14   QDA  0.684685\n",
      "15   QDA  0.774775\n",
      "16   QDA  0.720721\n",
      "17   QDA  0.720721\n",
      "18   QDA  0.522523\n",
      "19   QDA  0.531532\n",
      "20    NB  0.553571\n",
      "21    NB  0.612613\n",
      "22    NB  0.792793\n",
      "23    NB  0.801802\n",
      "24    NB  0.684685\n",
      "25    NB  0.738739\n",
      "26    NB  0.720721\n",
      "27    NB  0.702703\n",
      "28    NB  0.450450\n",
      "29    NB  0.594595\n"
     ]
    }
   ],
   "source": [
    "models = [\n",
    "(LinearDiscriminantAnalysis, \"LDA\"),\n",
    "(QuadraticDiscriminantAnalysis, \"QDA\"),\n",
    "(GaussianNB, \"NB\"),\n",
    "]\n",
    "def validation_errors(df, models):\n",
    "    y = df.z\n",
    "    X = df.drop(columns=[\"z\"])\n",
    "    for model, name in models:\n",
    "        for acc in cross_val_score(model(), X, y, cv=10):\n",
    "            yield name, acc\n",
    "\n",
    "scores_discri = pd.DataFrame(validation_errors(pcs, models), columns=[\"Model\", \"Acc\"])\n",
    "\n",
    "print(scores_discri)"
   ],
   "metadata": {
    "collapsed": false
   }
  },
  {
   "cell_type": "markdown",
   "source": [
    "## KNN"
   ],
   "metadata": {
    "collapsed": false
   }
  },
  {
   "cell_type": "code",
   "execution_count": 41,
   "outputs": [
    {
     "name": "stdout",
     "output_type": "stream",
     "text": [
      "  Model       Acc\n",
      "0   KNN  0.526786\n",
      "1   KNN  0.774775\n",
      "2   KNN  0.855856\n",
      "3   KNN  0.900901\n",
      "4   KNN  0.837838\n",
      "5   KNN  0.909910\n",
      "6   KNN  0.891892\n",
      "7   KNN  0.738739\n",
      "8   KNN  0.522523\n",
      "9   KNN  0.576577\n"
     ]
    }
   ],
   "source": [
    "cls = KNeighborsClassifier(n_neighbors=4)\n",
    "cls.fit(pcs.drop(columns=\"z\"),diagnosis)\n",
    "\n",
    "scores_KNN = pd.DataFrame(cross_val_score(cls, pcs.drop(columns=\"z\"), diagnosis, cv=10))\n",
    "scores_KNN = scores_KNN.rename(columns={0: 'Acc'})\n",
    "scores_KNN.insert(loc=0, column='Model', value='KNN')\n",
    "print(scores_KNN)"
   ],
   "metadata": {
    "collapsed": false
   }
  },
  {
   "cell_type": "markdown",
   "source": [
    "## Régression logistique"
   ],
   "metadata": {
    "collapsed": false
   }
  },
  {
   "cell_type": "code",
   "execution_count": 44,
   "outputs": [
    {
     "name": "stdout",
     "output_type": "stream",
     "text": [
      "  Model       Acc\n",
      "0   LRL  0.589286\n",
      "1   LRL  0.621622\n",
      "2   LRL  0.765766\n",
      "3   LRL  0.747748\n",
      "4   LRL  0.657658\n",
      "5   LRL  0.765766\n",
      "6   LRL  0.711712\n",
      "7   LRL  0.729730\n",
      "8   LRL  0.549550\n",
      "9   LRL  0.603604\n",
      "  Model       Acc\n",
      "0   LRQ  0.598214\n",
      "1   LRQ  0.612613\n",
      "2   LRQ  0.765766\n",
      "3   LRQ  0.747748\n",
      "4   LRQ  0.675676\n",
      "5   LRQ  0.765766\n",
      "6   LRQ  0.711712\n",
      "7   LRQ  0.720721\n",
      "8   LRQ  0.549550\n",
      "9   LRQ  0.612613\n"
     ]
    },
    {
     "name": "stderr",
     "output_type": "stream",
     "text": [
      "c:\\users\\felic\\appdata\\local\\programs\\python\\python39\\lib\\site-packages\\sklearn\\linear_model\\_logistic.py:469: ConvergenceWarning: lbfgs failed to converge (status=1):\n",
      "STOP: TOTAL NO. of ITERATIONS REACHED LIMIT.\n",
      "\n",
      "Increase the number of iterations (max_iter) or scale the data as shown in:\n",
      "    https://scikit-learn.org/stable/modules/preprocessing.html\n",
      "Please also refer to the documentation for alternative solver options:\n",
      "    https://scikit-learn.org/stable/modules/linear_model.html#logistic-regression\n",
      "  n_iter_i = _check_optimize_result(\n"
     ]
    }
   ],
   "source": [
    "#linéaire\n",
    "cls = LogisticRegression(penalty=None)\n",
    "cls.fit(pcs.drop(columns=\"z\"), diagnosis)\n",
    "scores_reg_lin = pd.DataFrame(cross_val_score(cls, pcs.drop(columns=\"z\"), diagnosis, cv=10, scoring='accuracy'))\n",
    "scores_reg_lin = scores_reg_lin.rename(columns={0: 'Acc'})\n",
    "scores_reg_lin.insert(loc=0, column='Model', value='LRL')\n",
    "#multiple\n",
    "poly = PolynomialFeatures(degree=3)\n",
    "cls = LogisticRegression()\n",
    "pipe = make_pipeline(poly, cls)\n",
    "pipe.fit(pcs.drop(columns=\"z\"), diagnosis)\n",
    "scores_reg_quad = pd.DataFrame(cross_val_score(cls, pcs.drop(columns=\"z\"), diagnosis, cv=10, scoring='accuracy'))\n",
    "scores_reg_quad = scores_reg_quad.rename(columns={0: 'Acc'})\n",
    "scores_reg_quad.insert(loc=0, column='Model', value='LRQ')\n",
    "\n",
    "print(scores_reg_lin)\n",
    "print(scores_reg_quad)"
   ],
   "metadata": {
    "collapsed": false
   }
  },
  {
   "cell_type": "markdown",
   "source": [
    "## Analyse graphique"
   ],
   "metadata": {
    "collapsed": false
   }
  },
  {
   "cell_type": "code",
   "execution_count": 46,
   "outputs": [
    {
     "name": "stdout",
     "output_type": "stream",
     "text": [
      "   Model       Acc\n",
      "0    LDA  0.571429\n",
      "1    LDA  0.621622\n",
      "2    LDA  0.792793\n",
      "3    LDA  0.756757\n",
      "4    LDA  0.702703\n",
      "5    LDA  0.747748\n",
      "6    LDA  0.711712\n",
      "7    LDA  0.702703\n",
      "8    LDA  0.549550\n",
      "9    LDA  0.594595\n",
      "10   QDA  0.580357\n",
      "11   QDA  0.612613\n",
      "12   QDA  0.783784\n",
      "13   QDA  0.801802\n",
      "14   QDA  0.684685\n",
      "15   QDA  0.774775\n",
      "16   QDA  0.720721\n",
      "17   QDA  0.720721\n",
      "18   QDA  0.522523\n",
      "19   QDA  0.531532\n",
      "20    NB  0.553571\n",
      "21    NB  0.612613\n",
      "22    NB  0.792793\n",
      "23    NB  0.801802\n",
      "24    NB  0.684685\n",
      "25    NB  0.738739\n",
      "26    NB  0.720721\n",
      "27    NB  0.702703\n",
      "28    NB  0.450450\n",
      "29    NB  0.594595\n",
      "30   KNN  0.526786\n",
      "31   KNN  0.774775\n",
      "32   KNN  0.855856\n",
      "33   KNN  0.900901\n",
      "34   KNN  0.837838\n",
      "35   KNN  0.909910\n",
      "36   KNN  0.891892\n",
      "37   KNN  0.738739\n",
      "38   KNN  0.522523\n",
      "39   KNN  0.576577\n",
      "40   LRL  0.589286\n",
      "41   LRL  0.621622\n",
      "42   LRL  0.765766\n",
      "43   LRL  0.747748\n",
      "44   LRL  0.657658\n",
      "45   LRL  0.765766\n",
      "46   LRL  0.711712\n",
      "47   LRL  0.729730\n",
      "48   LRL  0.549550\n",
      "49   LRL  0.603604\n",
      "50   LRQ  0.598214\n",
      "51   LRQ  0.612613\n",
      "52   LRQ  0.765766\n",
      "53   LRQ  0.747748\n",
      "54   LRQ  0.675676\n",
      "55   LRQ  0.765766\n",
      "56   LRQ  0.711712\n",
      "57   LRQ  0.720721\n",
      "58   LRQ  0.549550\n",
      "59   LRQ  0.612613\n"
     ]
    },
    {
     "data": {
      "text/plain": "<Figure size 640x480 with 1 Axes>",
      "image/png": "[encoded data removed]"
     },
     "metadata": {},
     "output_type": "display_data"
    }
   ],
   "source": [
    "scores= pd.concat([scores_discri, scores_KNN, scores_reg_lin, scores_reg_quad], ignore_index=True)\n",
    "print(scores)\n",
    "sns.lineplot(x=\"Model\", y=\"Acc\", data=scores, errorbar='sd')\n",
    "plt.show()"
   ],
   "metadata": {
    "collapsed": false
   }
  },
  {
   "cell_type": "code",
   "execution_count": null,
   "outputs": [],
   "source": [],
   "metadata": {
    "collapsed": false
   }
  }
 ],
 "metadata": {
  "kernelspec": {
   "display_name": "Python 3",
   "language": "python",
   "name": "python3"
  },
  "language_info": {
   "codemirror_mode": {
    "name": "ipython",
    "version": 2
   },
   "file_extension": ".py",
   "mimetype": "text/x-python",
   "name": "python",
   "nbconvert_exporter": "python",
   "pygments_lexer": "ipython2",
   "version": "2.7.6"
  }
 },
 "nbformat": 4,
 "nbformat_minor": 0
}
