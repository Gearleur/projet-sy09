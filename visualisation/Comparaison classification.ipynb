{
 "cells": [
  {
   "cell_type": "code",
   "execution_count": 25,
   "metadata": {
    "collapsed": false
   },
   "outputs": [],
   "source": [
    "import pandas as pd\n",
    "import matplotlib.pyplot as plt\n",
    "import matplotlib as mpl\n",
    "from sklearn.neighbors import KNeighborsClassifier\n",
    "import seaborn as sns\n",
    "from sklearn.decomposition import PCA\n",
    "from sklearn.preprocessing import StandardScaler\n",
    "from sklearn.model_selection import cross_val_score\n",
    "from sklearn.discriminant_analysis import LinearDiscriminantAnalysis\n",
    "from sklearn.discriminant_analysis import QuadraticDiscriminantAnalysis\n",
    "from sklearn.naive_bayes import GaussianNB\n",
    "from sklearn.linear_model import LogisticRegression\n",
    "from sklearn.preprocessing import PolynomialFeatures\n",
    "from sklearn.pipeline import make_pipeline\n",
    "from sklearn.metrics import f1_score\n",
    "data = pd.read_csv('../dataset/data_5diagnosis.csv')\n",
    "# data['Diagnosis'] = data['Diagnosis'].apply(lambda x: 0 if x == 'Healthy' else 1)\n",
    "df = data.drop('Diagnosis', axis=1)\n",
    "diagnosis=data.Diagnosis"
   ]
  },
  {
   "cell_type": "markdown",
   "metadata": {
    "collapsed": false
   },
   "source": [
    "## ACP"
   ]
  },
  {
   "cell_type": "code",
   "execution_count": 26,
   "metadata": {
    "collapsed": true
   },
   "outputs": [],
   "source": [
    "scaler = StandardScaler()\n",
    "X = pd.DataFrame(scaler.fit_transform(df), columns = df.columns)\n",
    "pca = PCA(n_components=2)\n",
    "pcs = pca.fit_transform(X)\n",
    "pcs = pd.DataFrame(pcs,columns=[f\"PC{i}\" for i in range(1, 3)])\n",
    "X['z'] = data['Diagnosis']\n",
    "pcs['z'] = data['Diagnosis']"
   ]
  },
  {
   "cell_type": "markdown",
   "metadata": {
    "collapsed": false
   },
   "source": [
    "## LDA/QDA/NB"
   ]
  },
  {
   "cell_type": "code",
   "execution_count": 27,
   "metadata": {
    "collapsed": false
   },
   "outputs": [
    {
     "name": "stdout",
     "output_type": "stream",
     "text": [
      "   Model       Acc        F1\n",
      "0    LDA  0.571429  0.472541\n",
      "1    LDA  0.621622  0.517963\n",
      "2    LDA  0.792793  0.649946\n",
      "3    LDA  0.756757  0.619787\n",
      "4    LDA  0.702703  0.566436\n",
      "5    LDA  0.747748  0.609751\n",
      "6    LDA  0.711712  0.584685\n",
      "7    LDA  0.702703  0.576441\n",
      "8    LDA  0.549550  0.528517\n",
      "9    LDA  0.594595  0.510796\n",
      "10   QDA  0.580357  0.477136\n",
      "11   QDA  0.612613  0.553178\n",
      "12   QDA  0.783784  0.640932\n",
      "13   QDA  0.801802  0.659464\n",
      "14   QDA  0.684685  0.547764\n",
      "15   QDA  0.774775  0.637390\n",
      "16   QDA  0.720721  0.593116\n",
      "17   QDA  0.720721  0.687237\n",
      "18   QDA  0.522523  0.496333\n",
      "19   QDA  0.531532  0.531797\n",
      "20    NB  0.553571  0.462664\n",
      "21    NB  0.612613  0.512524\n",
      "22    NB  0.792793  0.649946\n",
      "23    NB  0.801802  0.659464\n",
      "24    NB  0.684685  0.550548\n",
      "25    NB  0.738739  0.603211\n",
      "26    NB  0.720721  0.593116\n",
      "27    NB  0.702703  0.578937\n",
      "28    NB  0.450450  0.441772\n",
      "29    NB  0.594595  0.575095\n"
     ]
    }
   ],
   "source": [
    "models = [\n",
    "(LinearDiscriminantAnalysis, \"LDA\"),\n",
    "(QuadraticDiscriminantAnalysis, \"QDA\"),\n",
    "(GaussianNB, \"NB\"),\n",
    "]\n",
    "#sans score F1 :\n",
    "\"\"\"def validation_errors(df, models):\n",
    "    y = df.z\n",
    "    X = df.drop(columns=[\"z\"])\n",
    "    for model, name in models:\n",
    "        for acc in cross_val_score(model(), X, y, cv=10):\n",
    "            yield name, acc\"\"\"\n",
    "\n",
    "#avec score F1\n",
    "def validation_errors(df, models):\n",
    "    y = df.z\n",
    "    X = df.drop(columns=[\"z\"])\n",
    "    for model, name in models:\n",
    "        acc_scores = cross_val_score(model(), X, y, cv=10)\n",
    "        f1_scores = cross_val_score(model(), X, y, cv=10, scoring='f1_macro')\n",
    "        for acc, f1 in zip(acc_scores, f1_scores):\n",
    "            yield name, acc, f1\n",
    "\n",
    "scores_discri = pd.DataFrame(validation_errors(pcs, models), columns=[\"Model\", \"Acc\",\"F1\"])\n",
    "\n",
    "print(scores_discri)"
   ]
  },
  {
   "cell_type": "markdown",
   "metadata": {
    "collapsed": false
   },
   "source": [
    "## KNN"
   ]
  },
  {
   "cell_type": "code",
   "execution_count": 28,
   "metadata": {
    "collapsed": false
   },
   "outputs": [
    {
     "name": "stdout",
     "output_type": "stream",
     "text": [
      "  Model       Acc        F1\n",
      "0   KNN  0.526786  0.480104\n",
      "1   KNN  0.774775  0.686032\n",
      "2   KNN  0.855856  0.697177\n",
      "3   KNN  0.900901  0.741841\n",
      "4   KNN  0.837838  0.754875\n",
      "5   KNN  0.909910  0.797959\n",
      "6   KNN  0.891892  0.745511\n",
      "7   KNN  0.738739  0.649182\n",
      "8   KNN  0.522523  0.493202\n",
      "9   KNN  0.576577  0.553179\n",
      "Moyenne de l'accuracy: 0.7535794723294723\n",
      "Moyenne de F1: 0.6599061989608688\n"
     ]
    }
   ],
   "source": [
    "cls = KNeighborsClassifier(n_neighbors=4)\n",
    "cls.fit(pcs.drop(columns=\"z\"),diagnosis)\n",
    "\n",
    "scores_KNN = pd.DataFrame({\"Acc\":cross_val_score(cls, pcs.drop(columns=\"z\"), diagnosis, cv=10), \"F1\": cross_val_score(cls, pcs.drop(columns=\"z\"), diagnosis, cv=10,scoring='f1_macro')})\n",
    "scores_KNN.insert(loc=0, column='Model', value='KNN')\n",
    "print(scores_KNN)\n",
    "\n",
    "mean_accuracy = scores_KNN['Acc'].mean()\n",
    "mean_f1 = scores_KNN['F1'].mean()\n",
    "\n",
    "print(f\"Moyenne de l'accuracy: {mean_accuracy}\")\n",
    "print(f\"Moyenne de F1: {mean_f1}\")"
   ]
  },
  {
   "cell_type": "markdown",
   "metadata": {
    "collapsed": false
   },
   "source": [
    "## Régression logistique"
   ]
  },
  {
   "cell_type": "code",
   "execution_count": 29,
   "metadata": {
    "collapsed": false
   },
   "outputs": [
    {
     "name": "stdout",
     "output_type": "stream",
     "text": [
      "  Model       Acc        F1\n",
      "0   LRL  0.589286  0.491877\n",
      "1   LRL  0.621622  0.518864\n",
      "2   LRL  0.765766  0.623444\n",
      "3   LRL  0.747748  0.611071\n",
      "4   LRL  0.657658  0.522431\n",
      "5   LRL  0.765766  0.627558\n",
      "6   LRL  0.711712  0.585210\n",
      "7   LRL  0.729730  0.605552\n",
      "8   LRL  0.549550  0.522141\n",
      "9   LRL  0.603604  0.517620\n",
      "  Model       Acc        F1\n",
      "0   LRQ  0.598214  0.501046\n",
      "1   LRQ  0.612613  0.510036\n",
      "2   LRQ  0.765766  0.623444\n",
      "3   LRQ  0.747748  0.611071\n",
      "4   LRQ  0.675676  0.538199\n",
      "5   LRQ  0.765766  0.627558\n",
      "6   LRQ  0.711712  0.585210\n",
      "7   LRQ  0.720721  0.598202\n",
      "8   LRQ  0.549550  0.522141\n",
      "9   LRQ  0.612613  0.519527\n"
     ]
    },
    {
     "name": "stderr",
     "output_type": "stream",
     "text": [
      "d:\\alexa\\Github\\projet-sy09\\venv\\Lib\\site-packages\\sklearn\\linear_model\\_logistic.py:469: ConvergenceWarning: lbfgs failed to converge (status=1):\n",
      "STOP: TOTAL NO. of ITERATIONS REACHED LIMIT.\n",
      "\n",
      "Increase the number of iterations (max_iter) or scale the data as shown in:\n",
      "    https://scikit-learn.org/stable/modules/preprocessing.html\n",
      "Please also refer to the documentation for alternative solver options:\n",
      "    https://scikit-learn.org/stable/modules/linear_model.html#logistic-regression\n",
      "  n_iter_i = _check_optimize_result(\n"
     ]
    }
   ],
   "source": [
    "#linéaire\n",
    "cls = LogisticRegression(penalty=None)\n",
    "cls.fit(pcs.drop(columns=\"z\"), diagnosis)\n",
    "\n",
    "scores_reg_lin = pd.DataFrame({\"Acc\":cross_val_score(cls, pcs.drop(columns=\"z\"), diagnosis, cv=10, scoring='accuracy'), \"F1\": cross_val_score(cls, pcs.drop(columns=\"z\"), diagnosis, cv=10,scoring='f1_macro')})\n",
    "scores_reg_lin.insert(loc=0, column='Model', value='LRL')\n",
    "#multiple\n",
    "poly = PolynomialFeatures(degree=3)\n",
    "cls = LogisticRegression()\n",
    "pipe = make_pipeline(poly, cls)\n",
    "pipe.fit(pcs.drop(columns=\"z\"), diagnosis)\n",
    "\n",
    "scores_reg_quad = pd.DataFrame({\"Acc\":cross_val_score(cls, pcs.drop(columns=\"z\"), diagnosis, cv=10, scoring='accuracy'),\"F1\": cross_val_score(cls, pcs.drop(columns=\"z\"), diagnosis, cv=10,scoring='f1_macro')})\n",
    "scores_reg_quad.insert(loc=0, column='Model', value='LRQ')\n",
    "\n",
    "print(scores_reg_lin)\n",
    "print(scores_reg_quad)"
   ]
  },
  {
   "cell_type": "code",
   "execution_count": 30,
   "metadata": {},
   "outputs": [
    {
     "name": "stdout",
     "output_type": "stream",
     "text": [
      "  Model       Acc        F1\n",
      "0    RF  0.553571  0.502097\n",
      "1    RF  0.774775  0.705790\n",
      "2    RF  0.873874  0.760075\n",
      "3    RF  0.891892  0.734594\n",
      "4    RF  0.819820  0.704080\n",
      "5    RF  0.882883  0.726557\n",
      "6    RF  0.900901  0.792635\n",
      "7    RF  0.765766  0.666063\n",
      "8    RF  0.531532  0.496434\n",
      "9    RF  0.594595  0.587285\n",
      "Moyenne de l'accuracy: 0.7589607464607465\n",
      "Moyenne de F1: 0.6675610300493442\n"
     ]
    }
   ],
   "source": [
    "from sklearn.ensemble import RandomForestClassifier\n",
    "\n",
    "# Ajuster le modèle Random Forest optimisé\n",
    "model = RandomForestClassifier(n_estimators=100, random_state=3, ccp_alpha=0.001)\n",
    "model.fit(pcs.drop(columns=\"z\"), diagnosis)\n",
    "\n",
    "# Calcul des scores de validation croisée\n",
    "scores_rf = pd.DataFrame({\n",
    "    \"Acc\": cross_val_score(model, pcs.drop(columns=\"z\"), diagnosis, cv=10, scoring='accuracy'),\n",
    "    \"F1\": cross_val_score(model, pcs.drop(columns=\"z\"), diagnosis, cv=10, scoring='f1_macro')\n",
    "})\n",
    "\n",
    "# Ajouter une colonne pour le modèle\n",
    "scores_rf.insert(loc=0, column='Model', value='RF')\n",
    "\n",
    "# Afficher les résultats\n",
    "print(scores_rf)\n",
    "\n",
    "mean_accuracy = scores_rf['Acc'].mean()\n",
    "mean_f1 = scores_rf['F1'].mean()\n",
    "\n",
    "print(f\"Moyenne de l'accuracy: {mean_accuracy}\")\n",
    "print(f\"Moyenne de F1: {mean_f1}\")\n"
   ]
  },
  {
   "cell_type": "code",
   "execution_count": 31,
   "metadata": {},
   "outputs": [
    {
     "name": "stdout",
     "output_type": "stream",
     "text": [
      "Scores individuels de validation croisée :\n",
      "  Model       Acc        F1\n",
      "0   SVM  0.589286  0.485667\n",
      "1   SVM  0.657658  0.550436\n",
      "2   SVM  0.837838  0.686630\n",
      "3   SVM  0.882883  0.727027\n",
      "4   SVM  0.783784  0.633629\n",
      "5   SVM  0.891892  0.737261\n",
      "6   SVM  0.783784  0.647798\n",
      "7   SVM  0.738739  0.611285\n",
      "8   SVM  0.540541  0.500264\n",
      "9   SVM  0.549550  0.524206\n",
      "\n",
      "Moyenne des scores de validation croisée :\n",
      "Average Accuracy: 0.7256\n",
      "Average F1 Score: 0.6104\n"
     ]
    }
   ],
   "source": [
    "from sklearn.svm import SVC\n",
    "\n",
    "\n",
    "svm_cls = SVC(kernel='rbf')  # Vous pouvez changer le kernel selon vos besoins\n",
    "svm_cls.fit(pcs.drop(columns=\"z\"), diagnosis)\n",
    "\n",
    "# Calcul des scores de validation croisée pour l'accuracy et le F1-macro\n",
    "acc_scores = cross_val_score(svm_cls, pcs.drop(columns=\"z\"), diagnosis, cv=10, scoring='accuracy')\n",
    "f1_scores = cross_val_score(svm_cls, pcs.drop(columns=\"z\"), diagnosis, cv=10, scoring='f1_macro')\n",
    "\n",
    "# Créer un DataFrame pour stocker les scores individuels\n",
    "scores_svm = pd.DataFrame({\n",
    "    \"Acc\": acc_scores,\n",
    "    \"F1\": f1_scores\n",
    "})\n",
    "\n",
    "# Ajouter une colonne pour le modèle\n",
    "scores_svm.insert(loc=0, column='Model', value='SVM')\n",
    "\n",
    "# Calculer les moyennes des scores\n",
    "mean_acc = acc_scores.mean()\n",
    "mean_f1 = f1_scores.mean()\n",
    "\n",
    "# Afficher les résultats\n",
    "print(\"Scores individuels de validation croisée :\")\n",
    "print(scores_svm)\n",
    "print(\"\\nMoyenne des scores de validation croisée :\")\n",
    "print(f\"Average Accuracy: {mean_acc:.4f}\")\n",
    "print(f\"Average F1 Score: {mean_f1:.4f}\")\n",
    "\n",
    "#afficher la moyenne de accuracy et f1 de scores_svm"
   ]
  },
  {
   "cell_type": "markdown",
   "metadata": {
    "collapsed": false
   },
   "source": [
    "## Analyse graphique"
   ]
  },
  {
   "cell_type": "code",
   "execution_count": 32,
   "metadata": {
    "collapsed": false
   },
   "outputs": [
    {
     "name": "stdout",
     "output_type": "stream",
     "text": [
      "   Model       Acc        F1\n",
      "0    LDA  0.571429  0.472541\n",
      "1    LDA  0.621622  0.517963\n",
      "2    LDA  0.792793  0.649946\n",
      "3    LDA  0.756757  0.619787\n",
      "4    LDA  0.702703  0.566436\n",
      "..   ...       ...       ...\n",
      "65    RF  0.882883  0.726557\n",
      "66    RF  0.900901  0.792635\n",
      "67    RF  0.765766  0.666063\n",
      "68    RF  0.531532  0.496434\n",
      "69    RF  0.594595  0.587285\n",
      "\n",
      "[70 rows x 3 columns]\n",
      "    Model Type de score     Score\n",
      "0     LDA           Acc  0.571429\n",
      "1     LDA           Acc  0.621622\n",
      "2     LDA           Acc  0.792793\n",
      "3     LDA           Acc  0.756757\n",
      "4     LDA           Acc  0.702703\n",
      "..    ...           ...       ...\n",
      "135    RF            F1  0.726557\n",
      "136    RF            F1  0.792635\n",
      "137    RF            F1  0.666063\n",
      "138    RF            F1  0.496434\n",
      "139    RF            F1  0.587285\n",
      "\n",
      "[140 rows x 3 columns]\n"
     ]
    },
    {
     "data": {
      "image/png": "[encoded data removed]",
      "text/plain": [
       "<Figure size 640x480 with 1 Axes>"
      ]
     },
     "metadata": {},
     "output_type": "display_data"
    }
   ],
   "source": [
    "scores= pd.concat([scores_discri, scores_KNN, scores_reg_lin, scores_reg_quad, scores_rf], ignore_index=True)\n",
    "print(scores)\n",
    "\n",
    "scores_melted = scores.melt(id_vars=[\"Model\"],value_vars=[\"Acc\", \"F1\"], var_name=\"Type de score\", value_name=\"Score\")\n",
    "#print scrores_melted pour scores_KNN et scores_rf\n",
    "print(scores_melted)\n",
    "sns.set_style(\"whitegrid\")\n",
    "sns.lineplot(x=\"Model\", y=\"Score\", data=scores_melted, hue=\"Type de score\",errorbar='sd')\n",
    "plt.show()"
   ]
  }
 ],
 "metadata": {
  "kernelspec": {
   "display_name": "Python 3",
   "language": "python",
   "name": "python3"
  },
  "language_info": {
   "codemirror_mode": {
    "name": "ipython",
    "version": 3
   },
   "file_extension": ".py",
   "mimetype": "text/x-python",
   "name": "python",
   "nbconvert_exporter": "python",
   "pygments_lexer": "ipython3",
   "version": "3.11.7"
  }
 },
 "nbformat": 4,
 "nbformat_minor": 0
}
